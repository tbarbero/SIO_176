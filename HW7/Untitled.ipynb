{
 "cells": [
  {
   "cell_type": "code",
   "execution_count": 32,
   "metadata": {},
   "outputs": [],
   "source": [
    "import numpy as np"
   ]
  },
  {
   "cell_type": "code",
   "execution_count": 33,
   "metadata": {},
   "outputs": [],
   "source": [
    "U = -30 # cm/s\n",
    "T = 73 # cm^3 s^-2\n",
    "g = 981 #cm/s^2\n",
    "\n",
    "\n",
    "k1  = (-(U**2) + np.sqrt((U**4)-4*T*g))/(2*T)\n",
    "k2  = (-(U**2) - np.sqrt((U**4)-4*T*g))/(2*T)"
   ]
  },
  {
   "cell_type": "code",
   "execution_count": 36,
   "metadata": {},
   "outputs": [],
   "source": [
    "L1 = (np.pi*2)/k1\n",
    "L2 = (np.pi*2)/k2"
   ]
  },
  {
   "cell_type": "code",
   "execution_count": 37,
   "metadata": {},
   "outputs": [
    {
     "name": "stdout",
     "output_type": "stream",
     "text": [
      "-1.2084509016209837\n",
      "-11.120316221666688\n",
      "-5.199371607693362\n",
      "-0.5650185823796544\n"
     ]
    }
   ],
   "source": [
    "print(k1)\n",
    "print(k2)\n",
    "print(L1)\n",
    "print(L2)"
   ]
  },
  {
   "cell_type": "code",
   "execution_count": null,
   "metadata": {},
   "outputs": [],
   "source": []
  }
 ],
 "metadata": {
  "kernelspec": {
   "display_name": "Python 3",
   "language": "python",
   "name": "python3"
  },
  "language_info": {
   "codemirror_mode": {
    "name": "ipython",
    "version": 3
   },
   "file_extension": ".py",
   "mimetype": "text/x-python",
   "name": "python",
   "nbconvert_exporter": "python",
   "pygments_lexer": "ipython3",
   "version": "3.7.3"
  }
 },
 "nbformat": 4,
 "nbformat_minor": 2
}
